{
 "cells": [
  {
   "cell_type": "code",
   "execution_count": null,
   "metadata": {
    "collapsed": true
   },
   "outputs": [],
   "source": [
    "import datetime\n",
    "import requests\n",
    "import random"
   ]
  },
  {
   "cell_type": "code",
   "execution_count": null,
   "metadata": {
    "collapsed": true
   },
   "outputs": [],
   "source": [
    "def yandex_get_request(url):\n",
    "    headers = {\"X-Yandex-API-Key\":\"7636c60d-8184-40e9-8a76-18fb2cc520df\"}\n",
    "    r = requests.get(url, headers = headers)\n",
    "    return r.json()"
   ]
  },
  {
   "cell_type": "code",
   "execution_count": null,
   "metadata": {
    "collapsed": true
   },
   "outputs": [],
   "source": [
    "regions_dict = yandex_get_request(\"https://api.weather.yandex.ru/v1/locations?lang=en_US\")\n",
    "weather_dict = {\n",
    "    \"clear\": \"clear+sky\",\n",
    "    \"mostly-clear\": \"clear+sky\",\n",
    "    \"partly-cloudy\": \"clear+sky\",\n",
    "    \"overcast\": \"cloudy\",\n",
    "    \"cloudy\": \"cloudy\",\n",
    "    \"partly-cloudy-and-light-rain\": \"rain\",\n",
    "    \"partly-cloudy-and-rain\": \"rain\",\n",
    "    \"overcast-and-rain\": \"rain\",\n",
    "    \"overcast-thunderstorms-with-rain\": \"rain\",\n",
    "    \"cloudy-and-light-rain\": \"rain\",\n",
    "    \"overcast-and-light-rain\": \"rain\",\n",
    "    \"cloudy-and-rain\": \"rain\",\n",
    "    \"overcast-and-wet-snow\": \"snow\",\n",
    "    \"partly-cloudy-and-light-snow\": \"snow\",\n",
    "    \"partly-cloudy-and-snow\": \"snow\",\n",
    "    \"overcast-and-snow\": \"snow\",\n",
    "    \"cloudy-and-light-snow\": \"snow\",\n",
    "    \"overcast-and-light-snow\": \"snow\",\n",
    "    \"cloudy-and-snow\": \"snow\"}"
   ]
  },
  {
   "cell_type": "code",
   "execution_count": null,
   "metadata": {
    "collapsed": true
   },
   "outputs": [],
   "source": [
    "poems_dict = {\n",
    "    \"snow\" : [\"Месяц склоняется чистый \\nВ души поэтов и книг, \\nСыплется снег на пушистый \\nТвой воротник.\",\n",
    "            \"При жизни Вы его любили, \\nИ в верности клялись навек, \\nНесите же венки из лилий \\nНа свежий снег.\",\n",
    "            \"Умудрил меня встречный ветер, \\nСнег умилостивил мне взгляд, \\nНа пригорке монастырь светел \\nИ от снега - свят.\",\n",
    "            \"Мимо окон моих - бесстрастный - \\nТы пройдешь в снеговой тиши, \\nБожий праведник мой прекрасный, \\nСвете тихий моей души.\",\n",
    "            \"И, под медленным снегом стоя, \\nОпущусь на колени в снег, \\nИ во имя твое святое, \\nПоцелую вечерний снег.\",\n",
    "            \"Белый всадник - мой друг любимый, \\nНынче жизнь моя - лбом в снегу. \\nВ первый раз воспеваю зиму \\nВ восемнадцатом сем году.\",\n",
    "            \"Заря малиновые полосы \\nРазбрасывает на снегу, \\nА я пою нежнейшим голосом \\nЛюбезной девушки судьбу.\"],\n",
    "    \"rain\" : [\"Нынче праздник слуг нелицемерных: \\nЦелый дождь - в подхваченные полы! \\nЭто Царь с небесного престола \\nОрденами оделяет - верных.\",\n",
    "             \"В мое окошко дождь стучится. \\nСкрипит рабочий над станком. \\nБыла я уличной певицей, \\nА ты был княжеским сынком.\",\n",
    "             \"Гарь торфяных болот. - Рот пересох. \\nНе хочет дождь на грешные просторы! \\n- Гляжу на плащ - светлого плеску - плащ! \\nТы за плащом своим придешь не скоро.\",\n",
    "             \"Дождь убаюкивает боль. \\nПод ливни опускающихся ставень \\nСплю. Вздрагивающих асфальтов вдоль \\nКопыта - как рукоплесканья.\",\n",
    "             \"Дождь слышался: то не цеп о сноп: \\nДождь в крышу бьет: чтобы мне на лоб\",\n",
    "             \"Напрасно в ока оборот \\nОбшариваю небосвод: \\n- Дождь! дождевой воды бадья. \\nТам нет тебя - и нет тебя.\",\n",
    "             \"Дождь повторяет: кап-кап, \\nЛьется и льется на дворик... \\nСвет из окошка - так слаб! \\nДетскому сердцу - так горек!\"],\n",
    "    \"clear+sky\" : [\"В небе-то - ясно, \\nТемно - на дне. \\nКрасный один \\nБашмачок на корме.\",\n",
    "            \"Здесь оконца узорные узки, \\nЗдесь и утром портреты в тени... \\nНа зеленом, на солнечном спуске \\nНезнакомку добром помяни!\",\n",
    "            \"О, как солнечно и как звездно \\nНачат жизненный первый том, \\nУмоляю-пока не поздно, \\nПриходи посмотреть наш дом!\",\n",
    "            \"Солнце - одно, а шагает по всем городам. \\nСолнце - мое. Я его никому не отдам.\",\n",
    "            \"Высоко мое оконце! \\nНе достанешь перстеньком! \\nНа стене чердачной солнце \\nОт окна легло крестом.\",\n",
    "            \"Солнцу горячему, светлому, жаркому \\nТы передай мой привет. \\nСтавь свой вопрос всему сильному, яркому - \\nБудет ответ!\",\n",
    "            \"Как звезды меркнут понемногу \\nВ сияньи солнца золотом, \\nК нам другу друг давал дорогу, \\nОсенним делаясь листом.\"],\n",
    "    \"cloudy\" : [\"Из облачной выси выпало \\nМне прямо на грудь-перо. \\nЯ сегодня во сне рассыпала \\nМелкое серебро.\",\n",
    "            \"К Богу идут облака; \\nЛентой холмы огибая, \\nТихая и голубая \\nПлещет Ока.\",\n",
    "            \"Разметались кудри, разорван ворот... \\nПустота! Полет! \\nОблака плывут, и горящий город \\nПодо мной плывет.\",\n",
    "            \"Из облаков кивающие перья. \\nКак передать твое высокомерье, \\n- Георгий! - Ставленник небесных сил! \\n\" +  \n",
    "                \"Как передать закрепощенный пыл \\nЗрачка, и трезвенной ноздри раздутой \\nНа всем скаку обузданную смуту.\",\n",
    "            \"Каждое облако в час дурной - \\nГрудью круглится, \\nВ каждом цветке неповинном - твой \\nЛик, Дьяволица!\",\n",
    "            \"Лежим в траве и смотрим, как сквозь ветки \\nБелеет облачко в выси небес.\",\n",
    "            \"Облачко бело, и мне в облака \\nСтыдно глядеть вечерами. \\nО, почему за дарами \\nК Вам потянулась рука?\"]\n",
    "}"
   ]
  },
  {
   "cell_type": "code",
   "execution_count": null,
   "metadata": {
    "collapsed": true
   },
   "outputs": [],
   "source": [
    "def day_shifter(my_str):\n",
    "    my_list = my_str.lower().split(\" \")\n",
    "    weekday = datetime.datetime.today().weekday()\n",
    "    if \"today\" in my_list:\n",
    "        return 0\n",
    "    elif \"tomorrow\" in my_list or \"1\" in my_list:\n",
    "        return 1\n",
    "    elif (\"days\" in my_list) and (\"two\" in my_list or \"2\" in my_list):\n",
    "        return 2\n",
    "    elif (\"days\" in my_list) and (\"three\" in my_list or \"3\" in my_list):\n",
    "        return 3\n",
    "    elif (\"days\" in my_list) and (\"four\" in my_list or \"4\" in my_list):\n",
    "        return 4\n",
    "    elif (\"days\" in my_list) and (\"five\" in my_list or \"5\" in my_list):\n",
    "        return 5\n",
    "    elif (\"days\" in my_list) and (\"six\" in my_list or \"6\" in my_list):\n",
    "        return 6\n",
    "    elif (\"days\" in my_list) and (\"seven\" in my_list or \"7\" in my_list):\n",
    "        return 7\n",
    "    elif (\"days\" in my_list) and (\"eight\" in my_list or \"8\" in my_list):\n",
    "        return 8\n",
    "    elif (\"days\" in my_list) and (\"nine\" in my_list or \"9\" in my_list):\n",
    "        return 9\n",
    "    elif (\"days\" in my_list) and (\"ten\" in my_list or \"10\" in my_list):\n",
    "        return 10\n",
    "    elif \"week\" in my_list:\n",
    "        return 7\n",
    "    elif (\"weeks\" in my_list) and (\"two\" in my_list or \"2\" in my_list):\n",
    "        return 14\n",
    "    elif (\"monday\" in my_list):\n",
    "        if \"next\" in my_list:\n",
    "            return (0 - weekday) % 7 + 7\n",
    "        else:\n",
    "            return (0 - weekday) % 7\n",
    "    elif (\"tuesday\" in my_list):\n",
    "        if \"next\" in my_list:\n",
    "            return (1 - weekday) % 7 + 7\n",
    "        else:\n",
    "            return (1 - weekday) % 7\n",
    "    elif (\"wednesday\" in my_list):\n",
    "        if \"next\" in my_list:\n",
    "            return (2 - weekday) % 7 + 7\n",
    "        else:\n",
    "            return (2 - weekday) % 7\n",
    "    elif (\"thursday\" in my_list):\n",
    "        if \"next\" in my_list:\n",
    "            return (3 - weekday) % 7 + 7\n",
    "        else:\n",
    "            return (3 - weekday) % 7\n",
    "    elif (\"friday\" in my_list):\n",
    "        if \"next\" in my_list:\n",
    "            return (4 - weekday) % 7 + 7\n",
    "        else:\n",
    "            return (4 - weekday) % 7\n",
    "    elif (\"saturday\" in my_list):\n",
    "        if \"next\" in my_list:\n",
    "            return (5 - weekday) % 7 + 7\n",
    "        else:\n",
    "            return (5 - weekday) % 7\n",
    "    elif (\"sunday\" in my_list):\n",
    "        if \"next\" in my_list:\n",
    "            return (6 - weekday) % 7 + 7\n",
    "        else:\n",
    "            return (6 - weekday) % 7\n",
    "    else:\n",
    "        return 0"
   ]
  },
  {
   "cell_type": "code",
   "execution_count": null,
   "metadata": {
    "collapsed": true
   },
   "outputs": [],
   "source": [
    "def list_of_cities(my_str):\n",
    "    my_list = my_str.lower().split(\" \")\n",
    "    for i in range(len(my_list) - 1):\n",
    "        my_list.append(my_list[i] + \" \" + my_list[i + 1]) \n",
    "    return my_list"
   ]
  },
  {
   "cell_type": "code",
   "execution_count": null,
   "metadata": {
    "collapsed": true
   },
   "outputs": [],
   "source": [
    "def post_text(text_msg, chat_id):\n",
    "    url = \"https://api.telegram.org/bot514039325:AAHebzKSGHcLoAfMD6FhOjUJelVAjaaBADg/sendMessage\"\n",
    "    payload = {'chat_id': chat_id, 'text': text_msg}\n",
    "    requests.post(url, data = payload)"
   ]
  },
  {
   "cell_type": "code",
   "execution_count": null,
   "metadata": {
    "collapsed": true
   },
   "outputs": [],
   "source": [
    "def get_weather_url(city, weather):\n",
    "    bing_url = \"https://api.cognitive.microsoft.com/bing/v7.0/images/search?q={}+{}\".format(city, weather)\n",
    "    headers = {\"Ocp-Apim-Subscription-Key\" : \"96d05359d76f4e758906539daeab939e\"}\n",
    "    params  = {\"mkt\" : \"en-us\"}\n",
    "    response = requests.get(bing_url, headers=headers, params=params).json()\n",
    "    if (\"queryExpansions\" in response.keys()):\n",
    "        int_range = min(len(response[\"queryExpansions\"]) - 1, 7)\n",
    "        return response[\"queryExpansions\"][random.randint(0, int_range)]['thumbnail']['thumbnailUrl']\n",
    "    else:\n",
    "        int_range = min(len(response[\"value\"]), 7)\n",
    "        return response[\"value\"][random.randint(0, int_range)]['thumbnailUrl']"
   ]
  },
  {
   "cell_type": "code",
   "execution_count": null,
   "metadata": {
    "collapsed": true
   },
   "outputs": [],
   "source": [
    "def post_weather(weather_url, chat_id):\n",
    "    url = \"https://api.telegram.org/bot514039325:AAHebzKSGHcLoAfMD6FhOjUJelVAjaaBADg/sendPhoto\"\n",
    "    payload = {'chat_id': chat_id, 'photo': weather_url}\n",
    "    requests.post(url, data = payload)"
   ]
  },
  {
   "cell_type": "code",
   "execution_count": null,
   "metadata": {
    "collapsed": true
   },
   "outputs": [],
   "source": [
    "def post_temperature_and_image(my_str, chat_id):\n",
    "    geoid_value = 0\n",
    "    city_slug = \"\"\n",
    "    for item in regions_dict:\n",
    "        if item[\"name\"].lower() in list_of_cities(my_str):\n",
    "            geoid_value = item[\"geoid\"]\n",
    "            city_slug = item[\"slug\"]\n",
    "            break\n",
    "    limit_value = day_shifter(my_str)\n",
    "    if (limit_value <= 8):\n",
    "        if (geoid_value != 0):\n",
    "            url_ext = \"https://api.weather.yandex.ru/v1/forecast?hours=false&geoid=\" + \\\n",
    "                str(geoid_value) + \"&limit=\" + str(limit_value + 2)\n",
    "            forecasts = yandex_get_request(url_ext)[\"forecasts\"]\n",
    "            day_weather = str(forecasts[limit_value]['parts']['day']['condition'])\n",
    "            night_weather = str(forecasts[limit_value + 1]['parts']['night']['condition'])\n",
    "            text_msg = \"Day: \"+ str(forecasts[limit_value]['parts']['day']['temp_avg']) + \\\n",
    "                        \" (\" + day_weather + \") \\n\" + \\\n",
    "                    \"Night: \"+ str(forecasts[limit_value + 1]['parts']['night']['temp_avg']) + \\\n",
    "                        \" (\" + night_weather + \")\"\n",
    "            post_text(text_msg, chat_id)\n",
    "            weather_url = get_weather_url(city_slug, weather_dict[day_weather])\n",
    "            post_weather(weather_url, chat_id)\n",
    "            post_text(poems_dict[weather_dict[day_weather]][random.randint(0, 6)], chat_id)\n",
    "        else:\n",
    "            post_text('City is not found', chat_id)\n",
    "    else:\n",
    "        post_text('Forecast day is too far', chat_id)"
   ]
  },
  {
   "cell_type": "code",
   "execution_count": null,
   "metadata": {
    "collapsed": true
   },
   "outputs": [],
   "source": [
    "def post_help(chat_id):\n",
    "    text_msg = \"Bot will return weather in specific city on the specific date (no more than 9 days)\\n\\n\" + \\\n",
    "               \"Bot will recognise requests of the following format: \\n\" + \\\n",
    "               \"  Madrid\\n  Weather in Barcelona\\n  Weather in San Francisco tomorrow\\n  Kazan Thursday\\n\" + \\\n",
    "               \"  Weather in New York in three days\\n  etc.. \\n\\n\" + \\\n",
    "                \"If bot doesn't recognize the date it will return today's weather\"\n",
    "    post_text(text_msg, chat_id)"
   ]
  },
  {
   "cell_type": "code",
   "execution_count": null,
   "metadata": {
    "collapsed": true
   },
   "outputs": [],
   "source": [
    "def post_start(chat_id):\n",
    "    text_msg = \"Welcome to ks_weather_bot. For help please type /help\"\n",
    "    post_text(text_msg, chat_id)"
   ]
  },
  {
   "cell_type": "code",
   "execution_count": null,
   "metadata": {
    "collapsed": true
   },
   "outputs": [],
   "source": [
    "def Telegram():\n",
    "    url = \"https://api.telegram.org/bot514039325:AAHebzKSGHcLoAfMD6FhOjUJelVAjaaBADg/getUpdates\"\n",
    "    r = requests.get(url).json()[\"result\"]\n",
    "    offset = 0\n",
    "    if (len(r) != 0):\n",
    "        offset = r[len(r) - 1][\"update_id\"]\n",
    "    while(True):\n",
    "        params = {\"timeout\" : 10, \"offset\" : (offset + 1)}\n",
    "        r = requests.get(url, params = params).json()[\"result\"]\n",
    "        if(len(r) > 0):\n",
    "            offset = r[0][\"update_id\"]\n",
    "            my_str = r[0][\"message\"][\"text\"]\n",
    "            chat_id = r[0][\"message\"][\"chat\"][\"id\"]\n",
    "            if(my_str == '/help'):\n",
    "                post_help(chat_id)\n",
    "            elif(my_str == '/start'):\n",
    "                post_start(chat_id)\n",
    "            else:\n",
    "                post_temperature_and_image(my_str, chat_id)"
   ]
  },
  {
   "cell_type": "code",
   "execution_count": null,
   "metadata": {
    "collapsed": true
   },
   "outputs": [],
   "source": [
    "Telegram()"
   ]
  }
 ],
 "metadata": {
  "kernelspec": {
   "display_name": "Python 3",
   "language": "python",
   "name": "python3"
  },
  "language_info": {
   "codemirror_mode": {
    "name": "ipython",
    "version": 3
   },
   "file_extension": ".py",
   "mimetype": "text/x-python",
   "name": "python",
   "nbconvert_exporter": "python",
   "pygments_lexer": "ipython3",
   "version": "3.6.1"
  }
 },
 "nbformat": 4,
 "nbformat_minor": 2
}
